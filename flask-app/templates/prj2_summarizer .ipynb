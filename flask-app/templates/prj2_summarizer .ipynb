{
  "nbformat": 4,
  "nbformat_minor": 0,
  "metadata": {
    "colab": {
      "name": "prj2_tf_sum.ipynb",
      "provenance": [],
      "collapsed_sections": []
    },
    "kernelspec": {
      "name": "python3",
      "display_name": "Python 3"
    },
    "language_info": {
      "name": "python"
    },
    "accelerator": "GPU"
  },
  "cells": [
    {
      "cell_type": "markdown",
      "metadata": {
        "id": "22rFjD6yQjan"
      },
      "source": [
        "# Import needed library"
      ]
    },
    {
      "cell_type": "code",
      "metadata": {
        "id": "oXlLpPW9Sfiu"
      },
      "source": [
        "import pandas as pd\n",
        "import numpy as np\n",
        "import tensorflow as tf\n",
        "import time\n",
        "import re\n",
        "import matplotlib.pyplot as plt\n"
      ],
      "execution_count": 1,
      "outputs": []
    },
    {
      "cell_type": "code",
      "metadata": {
        "colab": {
          "base_uri": "https://localhost:8080/"
        },
        "id": "UN-PBghtsf8d",
        "outputId": "dd754bbf-eff0-4917-8afd-90c6a62300c4"
      },
      "source": [
        "!pip install rouge"
      ],
      "execution_count": null,
      "outputs": [
        {
          "output_type": "stream",
          "text": [
            "Collecting rouge\n",
            "  Downloading https://files.pythonhosted.org/packages/43/cc/e18e33be20971ff73a056ebdb023476b5a545e744e3fc22acd8c758f1e0d/rouge-1.0.0-py3-none-any.whl\n",
            "Requirement already satisfied: six in /usr/local/lib/python3.7/dist-packages (from rouge) (1.15.0)\n",
            "Installing collected packages: rouge\n",
            "Successfully installed rouge-1.0.0\n"
          ],
          "name": "stdout"
        }
      ]
    },
    {
      "cell_type": "code",
      "metadata": {
        "colab": {
          "base_uri": "https://localhost:8080/"
        },
        "id": "NK5oW8dqgMqF",
        "outputId": "9a7e4609-04de-438a-f825-d19d22a46ba4"
      },
      "source": [
        "!pip install flask-ngrok"
      ],
      "execution_count": null,
      "outputs": [
        {
          "output_type": "stream",
          "text": [
            "Collecting flask-ngrok\n",
            "  Downloading https://files.pythonhosted.org/packages/af/6c/f54cb686ad1129e27d125d182f90f52b32f284e6c8df58c1bae54fa1adbc/flask_ngrok-0.0.25-py3-none-any.whl\n",
            "Requirement already satisfied: requests in /usr/local/lib/python3.7/dist-packages (from flask-ngrok) (2.23.0)\n",
            "Requirement already satisfied: Flask>=0.8 in /usr/local/lib/python3.7/dist-packages (from flask-ngrok) (1.1.4)\n",
            "Requirement already satisfied: idna<3,>=2.5 in /usr/local/lib/python3.7/dist-packages (from requests->flask-ngrok) (2.10)\n",
            "Requirement already satisfied: chardet<4,>=3.0.2 in /usr/local/lib/python3.7/dist-packages (from requests->flask-ngrok) (3.0.4)\n",
            "Requirement already satisfied: urllib3!=1.25.0,!=1.25.1,<1.26,>=1.21.1 in /usr/local/lib/python3.7/dist-packages (from requests->flask-ngrok) (1.24.3)\n",
            "Requirement already satisfied: certifi>=2017.4.17 in /usr/local/lib/python3.7/dist-packages (from requests->flask-ngrok) (2021.5.30)\n",
            "Requirement already satisfied: itsdangerous<2.0,>=0.24 in /usr/local/lib/python3.7/dist-packages (from Flask>=0.8->flask-ngrok) (1.1.0)\n",
            "Requirement already satisfied: Werkzeug<2.0,>=0.15 in /usr/local/lib/python3.7/dist-packages (from Flask>=0.8->flask-ngrok) (1.0.1)\n",
            "Requirement already satisfied: click<8.0,>=5.1 in /usr/local/lib/python3.7/dist-packages (from Flask>=0.8->flask-ngrok) (7.1.2)\n",
            "Requirement already satisfied: Jinja2<3.0,>=2.10.1 in /usr/local/lib/python3.7/dist-packages (from Flask>=0.8->flask-ngrok) (2.11.3)\n",
            "Requirement already satisfied: MarkupSafe>=0.23 in /usr/local/lib/python3.7/dist-packages (from Jinja2<3.0,>=2.10.1->Flask>=0.8->flask-ngrok) (2.0.1)\n",
            "Installing collected packages: flask-ngrok\n",
            "Successfully installed flask-ngrok-0.0.25\n"
          ],
          "name": "stdout"
        }
      ]
    },
    {
      "cell_type": "code",
      "metadata": {
        "colab": {
          "base_uri": "https://localhost:8080/"
        },
        "id": "AYUkRAu3SRI8",
        "outputId": "abee2184-b17e-4f67-dfc4-1f1afa1d02c0"
      },
      "source": [
        "!git clone https://github.com/nam-ishere/text-summarization-with-transformer.git"
      ],
      "execution_count": 7,
      "outputs": [
        {
          "output_type": "stream",
          "text": [
            "Cloning into 'text-summarization-with-transformer'...\n",
            "remote: Enumerating objects: 44, done.\u001b[K\n",
            "remote: Counting objects: 100% (44/44), done.\u001b[K\n",
            "remote: Compressing objects: 100% (34/34), done.\u001b[K\n",
            "remote: Total 44 (delta 9), reused 0 (delta 0), pack-reused 0\u001b[K\n",
            "Unpacking objects: 100% (44/44), done.\n"
          ],
          "name": "stdout"
        }
      ]
    },
    {
      "cell_type": "code",
      "metadata": {
        "colab": {
          "base_uri": "https://localhost:8080/",
          "height": 204
        },
        "id": "eQypa9DzSHXW",
        "outputId": "366ef8e2-dc81-4d81-99e9-3c15b94811e0"
      },
      "source": [
        "news = pd.read_excel(\"/content/text-summarization-with-transformer/dataset/news.xlsx\")\n",
        "news.drop(['Source ', 'Time ', 'Publish Date'], axis=1, inplace=True)\n",
        "news.head()"
      ],
      "execution_count": 3,
      "outputs": [
        {
          "output_type": "execute_result",
          "data": {
            "text/html": [
              "<div>\n",
              "<style scoped>\n",
              "    .dataframe tbody tr th:only-of-type {\n",
              "        vertical-align: middle;\n",
              "    }\n",
              "\n",
              "    .dataframe tbody tr th {\n",
              "        vertical-align: top;\n",
              "    }\n",
              "\n",
              "    .dataframe thead th {\n",
              "        text-align: right;\n",
              "    }\n",
              "</style>\n",
              "<table border=\"1\" class=\"dataframe\">\n",
              "  <thead>\n",
              "    <tr style=\"text-align: right;\">\n",
              "      <th></th>\n",
              "      <th>Headline</th>\n",
              "      <th>Short</th>\n",
              "    </tr>\n",
              "  </thead>\n",
              "  <tbody>\n",
              "    <tr>\n",
              "      <th>0</th>\n",
              "      <td>4 ex-bank officials booked for cheating bank o...</td>\n",
              "      <td>The CBI on Saturday booked four former officia...</td>\n",
              "    </tr>\n",
              "    <tr>\n",
              "      <th>1</th>\n",
              "      <td>Supreme Court to go paperless in 6 months: CJI</td>\n",
              "      <td>Chief Justice JS Khehar has said the Supreme C...</td>\n",
              "    </tr>\n",
              "    <tr>\n",
              "      <th>2</th>\n",
              "      <td>At least 3 killed, 30 injured in blast in Sylh...</td>\n",
              "      <td>At least three people were killed, including a...</td>\n",
              "    </tr>\n",
              "    <tr>\n",
              "      <th>3</th>\n",
              "      <td>Why has Reliance been barred from trading in f...</td>\n",
              "      <td>Mukesh Ambani-led Reliance Industries (RIL) wa...</td>\n",
              "    </tr>\n",
              "    <tr>\n",
              "      <th>4</th>\n",
              "      <td>Was stopped from entering my own studio at Tim...</td>\n",
              "      <td>TV news anchor Arnab Goswami has said he was t...</td>\n",
              "    </tr>\n",
              "  </tbody>\n",
              "</table>\n",
              "</div>"
            ],
            "text/plain": [
              "                                            Headline                                              Short\n",
              "0  4 ex-bank officials booked for cheating bank o...  The CBI on Saturday booked four former officia...\n",
              "1     Supreme Court to go paperless in 6 months: CJI  Chief Justice JS Khehar has said the Supreme C...\n",
              "2  At least 3 killed, 30 injured in blast in Sylh...  At least three people were killed, including a...\n",
              "3  Why has Reliance been barred from trading in f...  Mukesh Ambani-led Reliance Industries (RIL) wa...\n",
              "4  Was stopped from entering my own studio at Tim...  TV news anchor Arnab Goswami has said he was t..."
            ]
          },
          "metadata": {
            "tags": []
          },
          "execution_count": 3
        }
      ]
    },
    {
      "cell_type": "code",
      "metadata": {
        "id": "dYrmm3g0SoGJ"
      },
      "source": [
        "article = news['Short']\n",
        "summary = news['Headline']\n",
        "article = article.apply(lambda x: '<SOS> ' + x + ' <EOS>')\n",
        "summary = summary.apply(lambda x: '<SOS> ' + x + ' <EOS>')"
      ],
      "execution_count": null,
      "outputs": []
    },
    {
      "cell_type": "code",
      "metadata": {
        "id": "WvoIHh5VSoWL"
      },
      "source": [
        "def preprocess(text):\n",
        "    text = re.sub(r\"&.[1-9]+;\",\" \",text)\n",
        "    return text\n",
        "article = article.apply(lambda x: preprocess(x))\n",
        "summary = summary.apply(lambda x: preprocess(x))"
      ],
      "execution_count": null,
      "outputs": []
    },
    {
      "cell_type": "code",
      "metadata": {
        "id": "M6kkjAwdSsAS"
      },
      "source": [
        "filters = '!\"#$%&()*+,-./:;=?@[\\\\]^_`{|}~\\t\\n'\n",
        "oov_token = '<unk>'\n",
        "article_tokenizer = tf.keras.preprocessing.text.Tokenizer(oov_token=oov_token)\n",
        "summary_tokenizer = tf.keras.preprocessing.text.Tokenizer(filters=filters, oov_token=oov_token)\n",
        "article_tokenizer.fit_on_texts(article)\n",
        "summary_tokenizer.fit_on_texts(summary)\n",
        "inputs = article_tokenizer.texts_to_sequences(article)\n",
        "targets = summary_tokenizer.texts_to_sequences(summary)"
      ],
      "execution_count": null,
      "outputs": []
    },
    {
      "cell_type": "code",
      "metadata": {
        "id": "0QJRr3z3SBtP"
      },
      "source": [
        "ENCODER_LEN = 100\n",
        "DECODER_LEN = 20\n",
        "BATCH_SIZE = 64\n",
        "BUFFER_SIZE = BATCH_SIZE*8\n"
      ],
      "execution_count": null,
      "outputs": []
    },
    {
      "cell_type": "code",
      "metadata": {
        "colab": {
          "base_uri": "https://localhost:8080/"
        },
        "id": "utM3U9y6SvU0",
        "outputId": "a67a34c4-1412-4cc2-c6ce-47dbdaab86c2"
      },
      "source": [
        "ENCODER_VOCAB = len(article_tokenizer.word_index) + 1\n",
        "DECODER_VOCAB = len(summary_tokenizer.word_index) + 1\n",
        "print(ENCODER_VOCAB, DECODER_VOCAB)"
      ],
      "execution_count": null,
      "outputs": [
        {
          "output_type": "stream",
          "text": [
            "76362 29661\n"
          ],
          "name": "stdout"
        }
      ]
    },
    {
      "cell_type": "code",
      "metadata": {
        "id": "VoW_oTcFSxvC"
      },
      "source": [
        "inputs = tf.keras.preprocessing.sequence.pad_sequences(inputs, maxlen=ENCODER_LEN, padding='post', truncating='post')\n",
        "targets = tf.keras.preprocessing.sequence.pad_sequences(targets, maxlen=DECODER_LEN, padding='post', truncating='post')\n",
        "inputs = tf.cast(inputs, dtype=tf.int64)\n",
        "targets = tf.cast(targets, dtype=tf.int64)"
      ],
      "execution_count": null,
      "outputs": []
    },
    {
      "cell_type": "code",
      "metadata": {
        "id": "r1EzE4_ISzhZ"
      },
      "source": [
        "dataset = tf.data.Dataset.from_tensor_slices((inputs, targets)).shuffle(BUFFER_SIZE).batch(BATCH_SIZE)"
      ],
      "execution_count": null,
      "outputs": []
    },
    {
      "cell_type": "markdown",
      "metadata": {
        "id": "jco316yCTBXx"
      },
      "source": [
        "## Transformer Model"
      ]
    },
    {
      "cell_type": "code",
      "metadata": {
        "id": "5NO9qnf-S1Tx"
      },
      "source": [
        "def get_angles(position, i, d_model):\n",
        "    angle_rates = 1 / np.power(10000, (2 * (i // 2)) / np.float32(d_model))\n",
        "    return position * angle_rates\n",
        "\n",
        "def positional_encoding(position, d_model):\n",
        "    angle_rads = get_angles(\n",
        "        np.arange(position)[:, np.newaxis],\n",
        "        np.arange(d_model)[np.newaxis, :],\n",
        "        d_model\n",
        "    )\n",
        "\n",
        "    angle_rads[:, 0::2] = np.sin(angle_rads[:, 0::2])\n",
        "\n",
        "    angle_rads[:, 1::2] = np.cos(angle_rads[:, 1::2])\n",
        "\n",
        "    pos_encoding = angle_rads[np.newaxis, ...]\n",
        "\n",
        "    return tf.cast(pos_encoding, dtype=tf.float32)\n",
        "\n",
        "def create_padding_mask(seq):\n",
        "    seq = tf.cast(tf.math.equal(seq, 0), tf.float32)\n",
        "    return seq[:, tf.newaxis, tf.newaxis, :]\n",
        "\n",
        "def create_look_ahead_mask(size):\n",
        "    mask = 1 - tf.linalg.band_part(tf.ones((size, size)), -1, 0)\n",
        "    return mask\n",
        "\n",
        "def scaled_dot_product_attention(q, k, v, mask):\n",
        "    matmul_qk = tf.matmul(q, k, transpose_b=True)\n",
        "\n",
        "    dk = tf.cast(tf.shape(k)[-1], tf.float32)\n",
        "    scaled_attention_logits = matmul_qk / tf.math.sqrt(dk)\n",
        "\n",
        "    if mask is not None:\n",
        "        scaled_attention_logits += (mask * -1e9)  \n",
        "\n",
        "    attention_weights = tf.nn.softmax(scaled_attention_logits, axis=-1)\n",
        "\n",
        "    output = tf.matmul(attention_weights, v)\n",
        "    return output, attention_weights"
      ],
      "execution_count": null,
      "outputs": []
    },
    {
      "cell_type": "code",
      "metadata": {
        "id": "qdI2wsdmTT-8"
      },
      "source": [
        "class MultiHeadAttention(tf.keras.layers.Layer):\n",
        "    def __init__(self, d_model, num_heads):\n",
        "        super(MultiHeadAttention, self).__init__()\n",
        "        self.num_heads = num_heads\n",
        "        self.d_model = d_model\n",
        "\n",
        "        assert d_model % self.num_heads == 0\n",
        "\n",
        "        self.depth = d_model // self.num_heads\n",
        "\n",
        "        self.wq = tf.keras.layers.Dense(d_model)\n",
        "        self.wk = tf.keras.layers.Dense(d_model)\n",
        "        self.wv = tf.keras.layers.Dense(d_model)\n",
        "\n",
        "        self.dense = tf.keras.layers.Dense(d_model)\n",
        "        \n",
        "    def split_heads(self, x, batch_size):\n",
        "        x = tf.reshape(x, (batch_size, -1, self.num_heads, self.depth))\n",
        "        return tf.transpose(x, perm=[0, 2, 1, 3])\n",
        "    \n",
        "    def call(self, v, k, q, mask):\n",
        "        batch_size = tf.shape(q)[0]\n",
        "\n",
        "        q = self.wq(q)\n",
        "        k = self.wk(k)\n",
        "        v = self.wv(v)\n",
        "\n",
        "        q = self.split_heads(q, batch_size)\n",
        "        k = self.split_heads(k, batch_size)\n",
        "        v = self.split_heads(v, batch_size)\n",
        "\n",
        "        scaled_attention, attention_weights = scaled_dot_product_attention(\n",
        "            q, k, v, mask)\n",
        "\n",
        "        scaled_attention = tf.transpose(scaled_attention, perm=[0, 2, 1, 3])\n",
        "        \n",
        "        concat_attention = tf.reshape(scaled_attention, (batch_size, -1, self.d_model))\n",
        "        output = self.dense(concat_attention)\n",
        "            \n",
        "        return output, attention_weights\n",
        "    \n",
        "def point_wise_feed_forward_network(d_model, dff):\n",
        "    return tf.keras.Sequential([\n",
        "        tf.keras.layers.Dense(dff, activation='relu'),\n",
        "        tf.keras.layers.Dense(d_model)\n",
        "    ])"
      ],
      "execution_count": null,
      "outputs": []
    },
    {
      "cell_type": "code",
      "metadata": {
        "id": "olCHlt1ETYjQ"
      },
      "source": [
        "class EncoderLayer(tf.keras.layers.Layer):\n",
        "    def __init__(self, d_model, num_heads, dff, rate=0.1):\n",
        "        super(EncoderLayer, self).__init__()\n",
        "\n",
        "        self.mha = MultiHeadAttention(d_model, num_heads)\n",
        "        self.ffn = point_wise_feed_forward_network(d_model, dff)\n",
        "\n",
        "        self.layernorm1 = tf.keras.layers.LayerNormalization(epsilon=1e-6)\n",
        "        self.layernorm2 = tf.keras.layers.LayerNormalization(epsilon=1e-6)\n",
        "\n",
        "        self.dropout1 = tf.keras.layers.Dropout(rate)\n",
        "        self.dropout2 = tf.keras.layers.Dropout(rate)\n",
        "    \n",
        "    def call(self, x, training, mask):\n",
        "        attn_output, _ = self.mha(x, x, x, mask)\n",
        "        attn_output = self.dropout1(attn_output, training=training)\n",
        "        out1 = self.layernorm1(x + attn_output)\n",
        "\n",
        "        ffn_output = self.ffn(out1)\n",
        "        ffn_output = self.dropout2(ffn_output, training=training)\n",
        "        out2 = self.layernorm2(out1 + ffn_output)\n",
        "\n",
        "        return out2"
      ],
      "execution_count": null,
      "outputs": []
    },
    {
      "cell_type": "code",
      "metadata": {
        "id": "IVmQWVp9TbJj"
      },
      "source": [
        "class DecoderLayer(tf.keras.layers.Layer):\n",
        "    def __init__(self, d_model, num_heads, dff, rate=0.1):\n",
        "        super(DecoderLayer, self).__init__()\n",
        "\n",
        "        self.mha1 = MultiHeadAttention(d_model, num_heads)\n",
        "        self.mha2 = MultiHeadAttention(d_model, num_heads)\n",
        "\n",
        "        self.ffn = point_wise_feed_forward_network(d_model, dff)\n",
        "\n",
        "        self.layernorm1 = tf.keras.layers.LayerNormalization(epsilon=1e-6)\n",
        "        self.layernorm2 = tf.keras.layers.LayerNormalization(epsilon=1e-6)\n",
        "        self.layernorm3 = tf.keras.layers.LayerNormalization(epsilon=1e-6)\n",
        "\n",
        "        self.dropout1 = tf.keras.layers.Dropout(rate)\n",
        "        self.dropout2 = tf.keras.layers.Dropout(rate)\n",
        "        self.dropout3 = tf.keras.layers.Dropout(rate)\n",
        "    \n",
        "    \n",
        "    def call(self, x, enc_output, training, look_ahead_mask, padding_mask):\n",
        "        attn1, attn_weights_block1 = self.mha1(x, x, x, look_ahead_mask)\n",
        "        attn1 = self.dropout1(attn1, training=training)\n",
        "        out1 = self.layernorm1(attn1 + x)\n",
        "\n",
        "        attn2, attn_weights_block2 = self.mha2(enc_output, enc_output, out1, padding_mask)\n",
        "        attn2 = self.dropout2(attn2, training=training)\n",
        "        out2 = self.layernorm2(attn2 + out1)\n",
        "\n",
        "        ffn_output = self.ffn(out2)\n",
        "        ffn_output = self.dropout3(ffn_output, training=training)\n",
        "        out3 = self.layernorm3(ffn_output + out2)\n",
        "\n",
        "        return out3, attn_weights_block1, attn_weights_block2"
      ],
      "execution_count": null,
      "outputs": []
    },
    {
      "cell_type": "code",
      "metadata": {
        "id": "m-T1Ue7NTeKZ"
      },
      "source": [
        "class Encoder(tf.keras.layers.Layer):\n",
        "    def __init__(self, num_layers, d_model, num_heads, dff, input_vocab_size, maximum_position_encoding, rate=0.1):\n",
        "        super(Encoder, self).__init__()\n",
        "\n",
        "        self.d_model = d_model\n",
        "        self.num_layers = num_layers\n",
        "\n",
        "        self.embedding = tf.keras.layers.Embedding(input_vocab_size, d_model)\n",
        "        self.pos_encoding = positional_encoding(maximum_position_encoding, self.d_model)\n",
        "\n",
        "        self.enc_layers = [EncoderLayer(d_model, num_heads, dff, rate) for _ in range(num_layers)]\n",
        "\n",
        "        self.dropout = tf.keras.layers.Dropout(rate)\n",
        "        \n",
        "    def call(self, x, training, mask):\n",
        "        seq_len = tf.shape(x)[1]\n",
        "\n",
        "        x = self.embedding(x)\n",
        "        x *= tf.math.sqrt(tf.cast(self.d_model, tf.float32))\n",
        "        x += self.pos_encoding[:, :seq_len, :]\n",
        "\n",
        "        x = self.dropout(x, training=training)\n",
        "    \n",
        "        for i in range(self.num_layers):\n",
        "            x = self.enc_layers[i](x, training, mask)\n",
        "    \n",
        "        return x\n",
        "    \n",
        "class Decoder(tf.keras.layers.Layer):\n",
        "        \n",
        "    def __init__(self, num_layers, d_model, num_heads, dff, target_vocab_size, maximum_position_encoding, rate=0.1):\n",
        "        super(Decoder, self).__init__()\n",
        "\n",
        "        self.d_model = d_model\n",
        "        self.num_layers = num_layers\n",
        "\n",
        "        self.embedding = tf.keras.layers.Embedding(target_vocab_size, d_model)\n",
        "        self.pos_encoding = positional_encoding(maximum_position_encoding, d_model)\n",
        "\n",
        "        self.dec_layers = [DecoderLayer(d_model, num_heads, dff, rate) for _ in range(num_layers)]\n",
        "        self.dropout = tf.keras.layers.Dropout(rate)\n",
        "    \n",
        "    def call(self, x, enc_output, training, look_ahead_mask, padding_mask):\n",
        "        seq_len = tf.shape(x)[1]\n",
        "        attention_weights = {}\n",
        "\n",
        "        x = self.embedding(x)\n",
        "        x *= tf.math.sqrt(tf.cast(self.d_model, tf.float32))\n",
        "        x += self.pos_encoding[:, :seq_len, :]\n",
        "\n",
        "        x = self.dropout(x, training=training)\n",
        "\n",
        "        for i in range(self.num_layers):\n",
        "            x, block1, block2 = self.dec_layers[i](x, enc_output, training, look_ahead_mask, padding_mask)\n",
        "\n",
        "            attention_weights['decoder_layer{}_block1'.format(i+1)] = block1\n",
        "            attention_weights['decoder_layer{}_block2'.format(i+1)] = block2\n",
        "    \n",
        "        return x, attention_weights"
      ],
      "execution_count": null,
      "outputs": []
    },
    {
      "cell_type": "code",
      "metadata": {
        "id": "5Z4akSoaThiG"
      },
      "source": [
        "class Transformer(tf.keras.Model):\n",
        "    def __init__(self, num_layers, d_model, num_heads, dff, input_vocab_size, target_vocab_size, pe_input, pe_target, rate=0.1):\n",
        "        super(Transformer, self).__init__()\n",
        "\n",
        "        self.encoder = Encoder(num_layers, d_model, num_heads, dff, input_vocab_size, pe_input, rate)\n",
        "\n",
        "        self.decoder = Decoder(num_layers, d_model, num_heads, dff, target_vocab_size, pe_target, rate)\n",
        "\n",
        "        self.final_layer = tf.keras.layers.Dense(target_vocab_size)\n",
        "    \n",
        "    def call(self, inp, tar, training, enc_padding_mask, look_ahead_mask, dec_padding_mask):\n",
        "        enc_output = self.encoder(inp, training, enc_padding_mask)\n",
        "\n",
        "        dec_output, attention_weights = self.decoder(tar, enc_output, training, look_ahead_mask, dec_padding_mask)\n",
        "\n",
        "        final_output = self.final_layer(dec_output)\n",
        "\n",
        "        return final_output, attention_weights"
      ],
      "execution_count": null,
      "outputs": []
    },
    {
      "cell_type": "code",
      "metadata": {
        "id": "kkOd5BJvT3m0"
      },
      "source": [
        "num_layers = 3\n",
        "d_model = 128\n",
        "dff = 512\n",
        "num_heads = 4\n",
        "dropout_rate = 0.2\n",
        "EPOCHS = 15"
      ],
      "execution_count": null,
      "outputs": []
    },
    {
      "cell_type": "code",
      "metadata": {
        "id": "N7fc-3EbUJUo"
      },
      "source": [
        "class CustomSchedule(tf.keras.optimizers.schedules.LearningRateSchedule):\n",
        "    def __init__(self, d_model, warmup_steps=4000):\n",
        "        super(CustomSchedule, self).__init__()\n",
        "\n",
        "        self.d_model = d_model\n",
        "        self.d_model = tf.cast(self.d_model, tf.float32)\n",
        "\n",
        "        self.warmup_steps = warmup_steps\n",
        "    \n",
        "    def __call__(self, step):\n",
        "        arg1 = tf.math.rsqrt(step)\n",
        "        arg2 = step * (self.warmup_steps ** -1.5)\n",
        "\n",
        "        return tf.math.rsqrt(self.d_model) * tf.math.minimum(arg1, arg2)"
      ],
      "execution_count": null,
      "outputs": []
    },
    {
      "cell_type": "code",
      "metadata": {
        "id": "c4RqeQgPTlGP"
      },
      "source": [
        "learning_rate = CustomSchedule(d_model)\n",
        "\n",
        "optimizer = tf.keras.optimizers.Adam(learning_rate, beta_1=0.9, beta_2=0.98, epsilon=1e-9)"
      ],
      "execution_count": null,
      "outputs": []
    },
    {
      "cell_type": "code",
      "metadata": {
        "colab": {
          "base_uri": "https://localhost:8080/",
          "height": 297
        },
        "id": "3Z2YMLNIT05q",
        "outputId": "0fb1b8d2-548b-46b8-91e2-b991190a2e6f"
      },
      "source": [
        "temp_learning_rate_schedule = CustomSchedule(d_model)\n",
        "\n",
        "plt.plot(temp_learning_rate_schedule(tf.range(40000, dtype=tf.float32)))\n",
        "plt.ylabel(\"Learning Rate\")\n",
        "plt.xlabel(\"Train Step\")"
      ],
      "execution_count": null,
      "outputs": [
        {
          "output_type": "execute_result",
          "data": {
            "text/plain": [
              "Text(0.5, 0, 'Train Step')"
            ]
          },
          "metadata": {
            "tags": []
          },
          "execution_count": 20
        },
        {
          "output_type": "display_data",
          "data": {
            "image/png": "[encoded data removed]",
            "text/plain": [
              "<Figure size 432x288 with 1 Axes>"
            ]
          },
          "metadata": {
            "tags": [],
            "needs_background": "light"
          }
        }
      ]
    },
    {
      "cell_type": "code",
      "metadata": {
        "id": "3vqWJDpNUMPk"
      },
      "source": [
        "loss_object = tf.keras.losses.SparseCategoricalCrossentropy(from_logits=True, reduction='none')\n",
        "def loss_function(real, pred):\n",
        "    mask = tf.math.logical_not(tf.math.equal(real, 0))\n",
        "    loss_ = loss_object(real, pred)\n",
        "\n",
        "    mask = tf.cast(mask, dtype=loss_.dtype)\n",
        "    loss_ *= mask\n",
        "\n",
        "    return tf.reduce_sum(loss_)/tf.reduce_sum(mask)\n",
        "\n",
        "\n",
        "def accuracy_function(real, pred):\n",
        "    accuracies = tf.equal(real, tf.argmax(pred, axis=2))\n",
        "    #accuracies = tf.cast(accuracies, dtype= tf.float32)\n",
        "\n",
        "    mask = tf.math.logical_not(tf.math.equal(real, 0))\n",
        "    accuracies = tf.math.logical_and(mask, accuracies)\n",
        "\n",
        "    accuracies = tf.cast(accuracies, dtype=tf.float32)\n",
        "    mask = tf.cast(mask, dtype=tf.float32)\n",
        "    return tf.reduce_sum(accuracies)/tf.reduce_sum(mask)"
      ],
      "execution_count": null,
      "outputs": []
    },
    {
      "cell_type": "code",
      "metadata": {
        "id": "UNdW549cUSXK"
      },
      "source": [
        "train_loss = tf.keras.metrics.Mean(name='train_loss')\n",
        "train_accuracy = tf.keras.metrics.Mean(name='train_accuracy')"
      ],
      "execution_count": null,
      "outputs": []
    },
    {
      "cell_type": "code",
      "metadata": {
        "id": "t3u2S0iRUUbI"
      },
      "source": [
        "transformer = Transformer(\n",
        "    num_layers=num_layers,\n",
        "    d_model=d_model,\n",
        "    num_heads=num_heads,\n",
        "    dff=dff,\n",
        "    input_vocab_size=ENCODER_VOCAB,\n",
        "    target_vocab_size=DECODER_VOCAB,\n",
        "    pe_input=1000,\n",
        "    pe_target=1000,\n",
        "    rate=dropout_rate)"
      ],
      "execution_count": null,
      "outputs": []
    },
    {
      "cell_type": "code",
      "metadata": {
        "id": "ZSYVr6ypUWFx"
      },
      "source": [
        "def create_masks(inp, tar):\n",
        "    enc_padding_mask = create_padding_mask(inp)\n",
        "    dec_padding_mask = create_padding_mask(inp)\n",
        "\n",
        "    look_ahead_mask = create_look_ahead_mask(tf.shape(tar)[1])\n",
        "    dec_target_padding_mask = create_padding_mask(tar)\n",
        "    combined_mask = tf.maximum(dec_target_padding_mask, look_ahead_mask)\n",
        "  \n",
        "    return enc_padding_mask, combined_mask, dec_padding_mask"
      ],
      "execution_count": null,
      "outputs": []
    },
    {
      "cell_type": "code",
      "metadata": {
        "id": "PCfOvvvsUXfL",
        "colab": {
          "base_uri": "https://localhost:8080/",
          "height": 239
        },
        "outputId": "57a66809-a296-4b43-f829-9326d7d65c60"
      },
      "source": [
        "checkpoint_path = \"/content/text-summarization-with-transformer/checkpoints/checkpoints\"\n",
        "\n",
        "ckpt = tf.train.Checkpoint(transformer=transformer, optimizer=optimizer)\n",
        "\n",
        "ckpt_manager = tf.train.CheckpointManager(ckpt, checkpoint_path, max_to_keep=5)\n",
        "\n",
        "if ckpt_manager.latest_checkpoint:\n",
        "    ckpt.restore(ckpt_manager.latest_checkpoint)\n",
        "    print ('Latest checkpoint restored!!')"
      ],
      "execution_count": 8,
      "outputs": [
        {
          "output_type": "error",
          "ename": "NameError",
          "evalue": "ignored",
          "traceback": [
            "\u001b[0;31m---------------------------------------------------------------------------\u001b[0m",
            "\u001b[0;31mNameError\u001b[0m                                 Traceback (most recent call last)",
            "\u001b[0;32m<ipython-input-8-d6429daf52db>\u001b[0m in \u001b[0;36m<module>\u001b[0;34m()\u001b[0m\n\u001b[1;32m      1\u001b[0m \u001b[0mcheckpoint_path\u001b[0m \u001b[0;34m=\u001b[0m \u001b[0;34m\"/content/text-summarization-with-transformer/checkpoints/checkpoints\"\u001b[0m\u001b[0;34m\u001b[0m\u001b[0;34m\u001b[0m\u001b[0m\n\u001b[1;32m      2\u001b[0m \u001b[0;34m\u001b[0m\u001b[0m\n\u001b[0;32m----> 3\u001b[0;31m \u001b[0mckpt\u001b[0m \u001b[0;34m=\u001b[0m \u001b[0mtf\u001b[0m\u001b[0;34m.\u001b[0m\u001b[0mtrain\u001b[0m\u001b[0;34m.\u001b[0m\u001b[0mCheckpoint\u001b[0m\u001b[0;34m(\u001b[0m\u001b[0mtransformer\u001b[0m\u001b[0;34m=\u001b[0m\u001b[0mtransformer\u001b[0m\u001b[0;34m,\u001b[0m \u001b[0moptimizer\u001b[0m\u001b[0;34m=\u001b[0m\u001b[0moptimizer\u001b[0m\u001b[0;34m)\u001b[0m\u001b[0;34m\u001b[0m\u001b[0;34m\u001b[0m\u001b[0m\n\u001b[0m\u001b[1;32m      4\u001b[0m \u001b[0;34m\u001b[0m\u001b[0m\n\u001b[1;32m      5\u001b[0m \u001b[0mckpt_manager\u001b[0m \u001b[0;34m=\u001b[0m \u001b[0mtf\u001b[0m\u001b[0;34m.\u001b[0m\u001b[0mtrain\u001b[0m\u001b[0;34m.\u001b[0m\u001b[0mCheckpointManager\u001b[0m\u001b[0;34m(\u001b[0m\u001b[0mckpt\u001b[0m\u001b[0;34m,\u001b[0m \u001b[0mcheckpoint_path\u001b[0m\u001b[0;34m,\u001b[0m \u001b[0mmax_to_keep\u001b[0m\u001b[0;34m=\u001b[0m\u001b[0;36m5\u001b[0m\u001b[0;34m)\u001b[0m\u001b[0;34m\u001b[0m\u001b[0;34m\u001b[0m\u001b[0m\n",
            "\u001b[0;31mNameError\u001b[0m: name 'transformer' is not defined"
          ]
        }
      ]
    },
    {
      "cell_type": "code",
      "metadata": {
        "id": "w7ue5NckUZGH"
      },
      "source": [
        "@tf.function\n",
        "def train_step(inp, tar):\n",
        "    tar_inp = tar[:, :-1]\n",
        "    tar_real = tar[:, 1:]\n",
        "\n",
        "    enc_padding_mask, combined_mask, dec_padding_mask = create_masks(inp, tar_inp)\n",
        "\n",
        "    with tf.GradientTape() as tape:\n",
        "        predictions, _ = transformer(\n",
        "            inp, tar_inp, \n",
        "            True, \n",
        "            enc_padding_mask, \n",
        "            combined_mask, \n",
        "            dec_padding_mask\n",
        "        )\n",
        "        loss = loss_function(tar_real, predictions)\n",
        "\n",
        "    gradients = tape.gradient(loss, transformer.trainable_variables)    \n",
        "    optimizer.apply_gradients(zip(gradients, transformer.trainable_variables))\n",
        "\n",
        "    train_loss(loss)\n",
        "    train_accuracy(accuracy_function(tar_real, predictions))"
      ],
      "execution_count": null,
      "outputs": []
    },
    {
      "cell_type": "markdown",
      "metadata": {
        "id": "pHN5CPaoHru4"
      },
      "source": [
        "# Train model"
      ]
    },
    {
      "cell_type": "code",
      "metadata": {
        "id": "a_8iWd0fWS0g"
      },
      "source": [
        "loss=[]"
      ],
      "execution_count": null,
      "outputs": []
    },
    {
      "cell_type": "code",
      "metadata": {
        "colab": {
          "base_uri": "https://localhost:8080/"
        },
        "id": "VMfG4CI-UdOd",
        "outputId": "30009517-4c6a-4d1f-fbbb-5d1ddcd06057"
      },
      "source": [
        "for epoch in range(EPOCHS):\n",
        "    start = time.time()\n",
        "\n",
        "    train_loss.reset_states()\n",
        "  \n",
        "    for (batch, (inp, tar)) in enumerate(dataset):\n",
        "        train_step(inp, tar)\n",
        "    \n",
        "        if batch % 100 == 0:\n",
        "            print(f'Epoch {epoch + 1} Batch {batch} Loss {train_loss.result():.4f} Accuracy {train_accuracy.result():.4f}')\n",
        "    loss.append(train_loss.result().numpy())\n",
        "    if (epoch + 1) % 5 == 0:\n",
        "        ckpt_save_path = ckpt_manager.save()\n",
        "        print ('Saving checkpoint for epoch {} at {}'.format(epoch+1, ckpt_save_path))\n",
        "   \n",
        "    print(f'Epoch {epoch + 1} Loss {train_loss.result():.4f} Accuracy {train_accuracy.result():.4f}')\n",
        "    print ('Time taken for 1 epoch: {} secs\\n'.format(time.time() - start))"
      ],
      "execution_count": null,
      "outputs": [
        {
          "output_type": "stream",
          "text": [
            "Epoch 1 Batch 0 Loss 10.3190 Accuracy 0.0618\n",
            "Epoch 1 Batch 100 Loss 9.7919 Accuracy 0.0724\n",
            "Epoch 1 Batch 200 Loss 9.2966 Accuracy 0.0787\n",
            "Epoch 1 Batch 300 Loss 8.8639 Accuracy 0.0826\n",
            "Epoch 1 Batch 400 Loss 8.5657 Accuracy 0.0857\n",
            "Epoch 1 Batch 500 Loss 8.3575 Accuracy 0.0905\n",
            "Epoch 1 Batch 600 Loss 8.2003 Accuracy 0.0962\n",
            "Epoch 1 Batch 700 Loss 8.0733 Accuracy 0.1014\n",
            "Epoch 1 Batch 800 Loss 7.9654 Accuracy 0.1061\n",
            "Epoch 1 Loss 7.9046 Accuracy 0.1088\n",
            "Time taken for 1 epoch: 141.44678163528442 secs\n",
            "\n",
            "Epoch 2 Batch 0 Loss 7.3908 Accuracy 0.1088\n",
            "Epoch 2 Batch 100 Loss 7.2610 Accuracy 0.1104\n",
            "Epoch 2 Batch 200 Loss 7.1634 Accuracy 0.1125\n",
            "Epoch 2 Batch 300 Loss 7.0792 Accuracy 0.1147\n",
            "Epoch 2 Batch 400 Loss 7.0213 Accuracy 0.1169\n",
            "Epoch 2 Batch 500 Loss 6.9604 Accuracy 0.1198\n",
            "Epoch 2 Batch 600 Loss 6.8997 Accuracy 0.1227\n",
            "Epoch 2 Batch 700 Loss 6.8327 Accuracy 0.1260\n",
            "Epoch 2 Batch 800 Loss 6.7642 Accuracy 0.1293\n",
            "Epoch 2 Loss 6.7217 Accuracy 0.1314\n",
            "Time taken for 1 epoch: 135.89439630508423 secs\n",
            "\n",
            "Epoch 3 Batch 0 Loss 6.6453 Accuracy 0.1314\n",
            "Epoch 3 Batch 100 Loss 6.5019 Accuracy 0.1325\n",
            "Epoch 3 Batch 200 Loss 6.4133 Accuracy 0.1340\n",
            "Epoch 3 Batch 300 Loss 6.3453 Accuracy 0.1357\n",
            "Epoch 3 Batch 400 Loss 6.3056 Accuracy 0.1375\n",
            "Epoch 3 Batch 500 Loss 6.2620 Accuracy 0.1397\n",
            "Epoch 3 Batch 600 Loss 6.2125 Accuracy 0.1422\n",
            "Epoch 3 Batch 700 Loss 6.1572 Accuracy 0.1451\n",
            "Epoch 3 Batch 800 Loss 6.0988 Accuracy 0.1481\n",
            "Epoch 3 Loss 6.0626 Accuracy 0.1499\n",
            "Time taken for 1 epoch: 135.45801281929016 secs\n",
            "\n",
            "Epoch 4 Batch 0 Loss 6.4472 Accuracy 0.1499\n",
            "Epoch 4 Batch 100 Loss 5.9782 Accuracy 0.1511\n",
            "Epoch 4 Batch 200 Loss 5.8834 Accuracy 0.1528\n",
            "Epoch 4 Batch 300 Loss 5.8134 Accuracy 0.1546\n",
            "Epoch 4 Batch 400 Loss 5.7770 Accuracy 0.1565\n",
            "Epoch 4 Batch 500 Loss 5.7318 Accuracy 0.1587\n",
            "Epoch 4 Batch 600 Loss 5.6855 Accuracy 0.1611\n",
            "Epoch 4 Batch 700 Loss 5.6332 Accuracy 0.1638\n",
            "Epoch 4 Batch 800 Loss 5.5778 Accuracy 0.1667\n",
            "Epoch 4 Loss 5.5414 Accuracy 0.1685\n",
            "Time taken for 1 epoch: 135.9549057483673 secs\n",
            "\n",
            "Epoch 5 Batch 0 Loss 6.0496 Accuracy 0.1685\n",
            "Epoch 5 Batch 100 Loss 5.5253 Accuracy 0.1699\n",
            "Epoch 5 Batch 200 Loss 5.4357 Accuracy 0.1716\n",
            "Epoch 5 Batch 300 Loss 5.3682 Accuracy 0.1735\n",
            "Epoch 5 Batch 400 Loss 5.3324 Accuracy 0.1754\n",
            "Epoch 5 Batch 500 Loss 5.2899 Accuracy 0.1775\n",
            "Epoch 5 Batch 600 Loss 5.2462 Accuracy 0.1799\n",
            "Epoch 5 Batch 700 Loss 5.1941 Accuracy 0.1825\n",
            "Epoch 5 Batch 800 Loss 5.1395 Accuracy 0.1853\n",
            "Saving checkpoint for epoch 5 at /content/drive/MyDrive/TextSum/mycheckpoints/checkpoints/ckpt-1\n",
            "Epoch 5 Loss 5.1044 Accuracy 0.1870\n",
            "Time taken for 1 epoch: 135.14417934417725 secs\n",
            "\n",
            "Epoch 6 Batch 0 Loss 5.9099 Accuracy 0.1870\n",
            "Epoch 6 Batch 100 Loss 5.1286 Accuracy 0.1885\n",
            "Epoch 6 Batch 200 Loss 5.0264 Accuracy 0.1903\n",
            "Epoch 6 Batch 300 Loss 4.9512 Accuracy 0.1923\n",
            "Epoch 6 Batch 400 Loss 4.9085 Accuracy 0.1943\n",
            "Epoch 6 Batch 500 Loss 4.8590 Accuracy 0.1965\n",
            "Epoch 6 Batch 600 Loss 4.8144 Accuracy 0.1989\n",
            "Epoch 6 Batch 700 Loss 4.7628 Accuracy 0.2015\n",
            "Epoch 6 Batch 800 Loss 4.7080 Accuracy 0.2042\n",
            "Epoch 6 Loss 4.6761 Accuracy 0.2058\n",
            "Time taken for 1 epoch: 135.1101987361908 secs\n",
            "\n",
            "Epoch 7 Batch 0 Loss 5.1561 Accuracy 0.2058\n",
            "Epoch 7 Batch 100 Loss 4.7422 Accuracy 0.2074\n",
            "Epoch 7 Batch 200 Loss 4.6561 Accuracy 0.2092\n",
            "Epoch 7 Batch 300 Loss 4.5812 Accuracy 0.2112\n",
            "Epoch 7 Batch 400 Loss 4.5441 Accuracy 0.2131\n",
            "Epoch 7 Batch 500 Loss 4.4967 Accuracy 0.2153\n",
            "Epoch 7 Batch 600 Loss 4.4545 Accuracy 0.2176\n",
            "Epoch 7 Batch 700 Loss 4.4067 Accuracy 0.2202\n",
            "Epoch 7 Batch 800 Loss 4.3569 Accuracy 0.2227\n",
            "Epoch 7 Loss 4.3276 Accuracy 0.2243\n",
            "Time taken for 1 epoch: 134.7948055267334 secs\n",
            "\n",
            "Epoch 8 Batch 0 Loss 4.9419 Accuracy 0.2243\n",
            "Epoch 8 Batch 100 Loss 4.4505 Accuracy 0.2258\n",
            "Epoch 8 Batch 200 Loss 4.3605 Accuracy 0.2275\n",
            "Epoch 8 Batch 300 Loss 4.2900 Accuracy 0.2295\n",
            "Epoch 8 Batch 400 Loss 4.2548 Accuracy 0.2313\n",
            "Epoch 8 Batch 500 Loss 4.2070 Accuracy 0.2335\n",
            "Epoch 8 Batch 600 Loss 4.1658 Accuracy 0.2357\n",
            "Epoch 8 Batch 700 Loss 4.1194 Accuracy 0.2380\n",
            "Epoch 8 Batch 800 Loss 4.0734 Accuracy 0.2405\n",
            "Epoch 8 Loss 4.0456 Accuracy 0.2419\n",
            "Time taken for 1 epoch: 134.828022480011 secs\n",
            "\n",
            "Epoch 9 Batch 0 Loss 4.7087 Accuracy 0.2419\n",
            "Epoch 9 Batch 100 Loss 4.1988 Accuracy 0.2434\n",
            "Epoch 9 Batch 200 Loss 4.1148 Accuracy 0.2451\n",
            "Epoch 9 Batch 300 Loss 4.0522 Accuracy 0.2469\n",
            "Epoch 9 Batch 400 Loss 4.0166 Accuracy 0.2488\n",
            "Epoch 9 Batch 500 Loss 3.9673 Accuracy 0.2508\n",
            "Epoch 9 Batch 600 Loss 3.9277 Accuracy 0.2529\n",
            "Epoch 9 Batch 700 Loss 3.8828 Accuracy 0.2551\n",
            "Epoch 9 Batch 800 Loss 3.8386 Accuracy 0.2574\n",
            "Epoch 9 Loss 3.8124 Accuracy 0.2588\n",
            "Time taken for 1 epoch: 134.74739384651184 secs\n",
            "\n",
            "Epoch 10 Batch 0 Loss 4.5224 Accuracy 0.2589\n",
            "Epoch 10 Batch 100 Loss 4.0115 Accuracy 0.2602\n",
            "Epoch 10 Batch 200 Loss 3.9188 Accuracy 0.2618\n",
            "Epoch 10 Batch 300 Loss 3.8494 Accuracy 0.2635\n",
            "Epoch 10 Batch 400 Loss 3.8100 Accuracy 0.2653\n",
            "Epoch 10 Batch 500 Loss 3.7631 Accuracy 0.2672\n",
            "Epoch 10 Batch 600 Loss 3.7242 Accuracy 0.2692\n",
            "Epoch 10 Batch 700 Loss 3.6797 Accuracy 0.2713\n",
            "Epoch 10 Batch 800 Loss 3.6371 Accuracy 0.2735\n",
            "Saving checkpoint for epoch 10 at /content/drive/MyDrive/TextSum/mycheckpoints/checkpoints/ckpt-2\n",
            "Epoch 10 Loss 3.6133 Accuracy 0.2748\n",
            "Time taken for 1 epoch: 135.7430703639984 secs\n",
            "\n",
            "Epoch 11 Batch 0 Loss 4.4396 Accuracy 0.2748\n",
            "Epoch 11 Batch 100 Loss 3.8167 Accuracy 0.2762\n",
            "Epoch 11 Batch 200 Loss 3.7359 Accuracy 0.2777\n",
            "Epoch 11 Batch 300 Loss 3.6705 Accuracy 0.2793\n",
            "Epoch 11 Batch 400 Loss 3.6325 Accuracy 0.2810\n",
            "Epoch 11 Batch 500 Loss 3.5844 Accuracy 0.2828\n",
            "Epoch 11 Batch 600 Loss 3.5450 Accuracy 0.2847\n",
            "Epoch 11 Batch 700 Loss 3.5021 Accuracy 0.2867\n",
            "Epoch 11 Batch 800 Loss 3.4638 Accuracy 0.2887\n",
            "Epoch 11 Loss 3.4409 Accuracy 0.2900\n",
            "Time taken for 1 epoch: 134.90972185134888 secs\n",
            "\n",
            "Epoch 12 Batch 0 Loss 4.1774 Accuracy 0.2900\n",
            "Epoch 12 Batch 100 Loss 3.6603 Accuracy 0.2912\n",
            "Epoch 12 Batch 200 Loss 3.5782 Accuracy 0.2927\n",
            "Epoch 12 Batch 300 Loss 3.5162 Accuracy 0.2942\n",
            "Epoch 12 Batch 400 Loss 3.4778 Accuracy 0.2957\n",
            "Epoch 12 Batch 500 Loss 3.4317 Accuracy 0.2975\n",
            "Epoch 12 Batch 600 Loss 3.3940 Accuracy 0.2993\n",
            "Epoch 12 Batch 700 Loss 3.3538 Accuracy 0.3012\n",
            "Epoch 12 Batch 800 Loss 3.3186 Accuracy 0.3031\n",
            "Epoch 12 Loss 3.2966 Accuracy 0.3043\n",
            "Time taken for 1 epoch: 134.79241824150085 secs\n",
            "\n",
            "Epoch 13 Batch 0 Loss 3.8218 Accuracy 0.3043\n",
            "Epoch 13 Batch 100 Loss 3.5540 Accuracy 0.3055\n",
            "Epoch 13 Batch 200 Loss 3.4655 Accuracy 0.3068\n",
            "Epoch 13 Batch 300 Loss 3.4070 Accuracy 0.3082\n",
            "Epoch 13 Batch 400 Loss 3.3690 Accuracy 0.3097\n",
            "Epoch 13 Batch 500 Loss 3.3218 Accuracy 0.3114\n",
            "Epoch 13 Batch 600 Loss 3.2851 Accuracy 0.3131\n",
            "Epoch 13 Batch 700 Loss 3.2457 Accuracy 0.3149\n",
            "Epoch 13 Batch 800 Loss 3.2129 Accuracy 0.3167\n",
            "Epoch 13 Loss 3.1925 Accuracy 0.3178\n",
            "Time taken for 1 epoch: 134.4851634502411 secs\n",
            "\n",
            "Epoch 14 Batch 0 Loss 3.6966 Accuracy 0.3178\n",
            "Epoch 14 Batch 100 Loss 3.4391 Accuracy 0.3189\n",
            "Epoch 14 Batch 200 Loss 3.3601 Accuracy 0.3202\n",
            "Epoch 14 Batch 300 Loss 3.3000 Accuracy 0.3215\n",
            "Epoch 14 Batch 400 Loss 3.2653 Accuracy 0.3229\n",
            "Epoch 14 Batch 500 Loss 3.2231 Accuracy 0.3245\n",
            "Epoch 14 Batch 600 Loss 3.1857 Accuracy 0.3261\n",
            "Epoch 14 Batch 700 Loss 3.1471 Accuracy 0.3277\n",
            "Epoch 14 Batch 800 Loss 3.1138 Accuracy 0.3294\n",
            "Epoch 14 Loss 3.0932 Accuracy 0.3305\n",
            "Time taken for 1 epoch: 134.18367195129395 secs\n",
            "\n",
            "Epoch 15 Batch 0 Loss 3.8115 Accuracy 0.3305\n",
            "Epoch 15 Batch 100 Loss 3.3394 Accuracy 0.3315\n",
            "Epoch 15 Batch 200 Loss 3.2569 Accuracy 0.3327\n",
            "Epoch 15 Batch 300 Loss 3.2005 Accuracy 0.3340\n",
            "Epoch 15 Batch 400 Loss 3.1643 Accuracy 0.3353\n",
            "Epoch 15 Batch 500 Loss 3.1192 Accuracy 0.3368\n",
            "Epoch 15 Batch 600 Loss 3.0832 Accuracy 0.3383\n",
            "Epoch 15 Batch 700 Loss 3.0435 Accuracy 0.3399\n",
            "Epoch 15 Batch 800 Loss 3.0084 Accuracy 0.3415\n",
            "Saving checkpoint for epoch 15 at /content/drive/MyDrive/TextSum/mycheckpoints/checkpoints/ckpt-3\n",
            "Epoch 15 Loss 2.9896 Accuracy 0.3424\n",
            "Time taken for 1 epoch: 134.55259013175964 secs\n",
            "\n"
          ],
          "name": "stdout"
        }
      ]
    },
    {
      "cell_type": "code",
      "metadata": {
        "colab": {
          "base_uri": "https://localhost:8080/"
        },
        "id": "DEgvwXzVfWJk",
        "outputId": "c4543915-c0e8-4569-eda9-4f3af5b03c3a"
      },
      "source": [
        "loss"
      ],
      "execution_count": null,
      "outputs": [
        {
          "output_type": "execute_result",
          "data": {
            "text/plain": [
              "[7.9045863,\n",
              " 6.721652,\n",
              " 6.062605,\n",
              " 5.541427,\n",
              " 5.104368,\n",
              " 4.6760507,\n",
              " 4.327588,\n",
              " 4.0456157,\n",
              " 3.8124459,\n",
              " 3.6133478,\n",
              " 3.4408772,\n",
              " 3.2965586,\n",
              " 3.192516,\n",
              " 3.093193,\n",
              " 2.98961]"
            ]
          },
          "metadata": {
            "tags": []
          },
          "execution_count": 90
        }
      ]
    },
    {
      "cell_type": "code",
      "metadata": {
        "colab": {
          "base_uri": "https://localhost:8080/",
          "height": 278
        },
        "id": "ZkEqI6Edgd01",
        "outputId": "2e5357f0-7364-435e-fcb0-794ef4a281fe"
      },
      "source": [
        "import matplotlib.pyplot as plt\n",
        "\n",
        "\n",
        "def draw_line():\n",
        "\n",
        "    x_number_values = [x for x in range(1,16)]\n",
        "\n",
        "    y_number_values = loss\n",
        "\n",
        "    plt.plot(x_number_values, y_number_values, linewidth=4)\n",
        "\n",
        "    plt.xlabel(\"epoch\", fontsize=10)\n",
        "\n",
        "    plt.ylabel(\"loss\", fontsize=10)\n",
        "\n",
        "    plt.tick_params(axis='both', labelsize=9)\n",
        "\n",
        "    plt.show()\n",
        "\n",
        "if __name__ == '__main__':\n",
        "    draw_line()"
      ],
      "execution_count": null,
      "outputs": [
        {
          "output_type": "display_data",
          "data": {
            "image/png": "[encoded data removed]",
            "text/plain": [
              "<Figure size 432x288 with 1 Axes>"
            ]
          },
          "metadata": {
            "tags": [],
            "needs_background": "light"
          }
        }
      ]
    },
    {
      "cell_type": "code",
      "metadata": {
        "id": "uvHyiUu7Uilf"
      },
      "source": [
        "def evaluate(input_article):\n",
        "    input_article = article_tokenizer.texts_to_sequences([input_article])\n",
        "    input_article = tf.keras.preprocessing.sequence.pad_sequences(input_article, maxlen=ENCODER_LEN, \n",
        "                                                                   padding='post', truncating='post')\n",
        "\n",
        "    encoder_input = tf.expand_dims(input_article[0], 0)\n",
        "\n",
        "    decoder_input = [summary_tokenizer.word_index['<sos>']]\n",
        "    output = tf.expand_dims(decoder_input, 0)\n",
        "    \n",
        "    for i in range(DECODER_LEN):\n",
        "        enc_padding_mask, combined_mask, dec_padding_mask = create_masks(encoder_input, output)\n",
        "\n",
        "        predictions, attention_weights = transformer(\n",
        "            encoder_input, \n",
        "            output,\n",
        "            False,\n",
        "            enc_padding_mask,\n",
        "            combined_mask,\n",
        "            dec_padding_mask\n",
        "        )\n",
        "\n",
        "        predictions = predictions[: ,-1:, :]\n",
        "        predicted_id = tf.cast(tf.argmax(predictions, axis=-1), tf.int32)\n",
        "\n",
        "        if predicted_id == summary_tokenizer.word_index['<eos>']:\n",
        "            return tf.squeeze(output, axis=0), attention_weights\n",
        "\n",
        "        output = tf.concat([output, predicted_id], axis=-1)\n",
        "\n",
        "    return tf.squeeze(output, axis=0), attention_weights"
      ],
      "execution_count": null,
      "outputs": []
    },
    {
      "cell_type": "code",
      "metadata": {
        "id": "TDEItUFKe9rH"
      },
      "source": [
        "def predict(input_article):\n",
        "    predicted= evaluate(input_article=input_article)[0].numpy()\n",
        "    predicted = np.expand_dims(predicted[1:], 0)  \n",
        "    return summary_tokenizer.sequences_to_texts(predicted)[0]"
      ],
      "execution_count": null,
      "outputs": []
    },
    {
      "cell_type": "code",
      "metadata": {
        "colab": {
          "base_uri": "https://localhost:8080/"
        },
        "id": "mGo9NDkafBcH",
        "outputId": "7e61eac5-4cbd-42ac-93fa-766d583335c5"
      },
      "source": [
        "article[7],summary[7],predict(article[7])"
      ],
      "execution_count": null,
      "outputs": [
        {
          "output_type": "execute_result",
          "data": {
            "text/plain": [
              "('<SOS> Uttar Pradesh Chief Minister Yogi Adityanath, during his visit to Gorakhpur on Saturday, said the anti-Romeo squads must not trouble consenting boys and girls unnecessarily. This comes after three cops were suspended in Ghaziabad for wrongfully detaining a couple in the  anti-Romeo  drive. However, he asserted that stern actions would be taken against the eve-teasers. <EOS>',\n",
              " '<SOS> Anti-Romeo squads must not trouble consenting youths: Yogi <EOS>',\n",
              " 'make anti muslim community must meet adityanath')"
            ]
          },
          "metadata": {
            "tags": []
          },
          "execution_count": 204
        }
      ]
    },
    {
      "cell_type": "markdown",
      "metadata": {
        "id": "O6LMkCobsW-1"
      },
      "source": [
        "#Evaluate"
      ]
    },
    {
      "cell_type": "code",
      "metadata": {
        "id": "LxwaxDlBsWZi"
      },
      "source": [
        "test = pd.read_csv('/content/text-summarization-with-transformer/dataset/test.csv')"
      ],
      "execution_count": 4,
      "outputs": []
    },
    {
      "cell_type": "code",
      "metadata": {
        "colab": {
          "base_uri": "https://localhost:8080/",
          "height": 418
        },
        "id": "lwu_dHgPRa8z",
        "outputId": "fe0f9633-4251-497f-be0e-d1e2825d4604"
      },
      "source": [
        "test"
      ],
      "execution_count": 5,
      "outputs": [
        {
          "output_type": "execute_result",
          "data": {
            "text/html": [
              "<div>\n",
              "<style scoped>\n",
              "    .dataframe tbody tr th:only-of-type {\n",
              "        vertical-align: middle;\n",
              "    }\n",
              "\n",
              "    .dataframe tbody tr th {\n",
              "        vertical-align: top;\n",
              "    }\n",
              "\n",
              "    .dataframe thead th {\n",
              "        text-align: right;\n",
              "    }\n",
              "</style>\n",
              "<table border=\"1\" class=\"dataframe\">\n",
              "  <thead>\n",
              "    <tr style=\"text-align: right;\">\n",
              "      <th></th>\n",
              "      <th>Headline</th>\n",
              "      <th>Short</th>\n",
              "    </tr>\n",
              "  </thead>\n",
              "  <tbody>\n",
              "    <tr>\n",
              "      <th>0</th>\n",
              "      <td>&amp;#39;Alternative facts&amp;#39; was my La La Land ...</td>\n",
              "      <td>White House adviser Kellyanne Conway has said ...</td>\n",
              "    </tr>\n",
              "    <tr>\n",
              "      <th>1</th>\n",
              "      <td>Why does a pen cap have a small hole?</td>\n",
              "      <td>Most pens have a cap with a small hole to prev...</td>\n",
              "    </tr>\n",
              "    <tr>\n",
              "      <th>2</th>\n",
              "      <td>Warne conceded 150 runs and took just 1 wicket...</td>\n",
              "      <td>Former Australian spinner Shane Warne, who mad...</td>\n",
              "    </tr>\n",
              "    <tr>\n",
              "      <th>3</th>\n",
              "      <td>House in US linked to over 600 mn IP addresses</td>\n",
              "      <td>A house in the US got linked to over 600 milli...</td>\n",
              "    </tr>\n",
              "    <tr>\n",
              "      <th>4</th>\n",
              "      <td>OROP activist in judicial custody for fraud case</td>\n",
              "      <td>Retired Wing Commander CK Sharma has been plac...</td>\n",
              "    </tr>\n",
              "    <tr>\n",
              "      <th>...</th>\n",
              "      <td>...</td>\n",
              "      <td>...</td>\n",
              "    </tr>\n",
              "    <tr>\n",
              "      <th>4995</th>\n",
              "      <td>&amp;#39;Medium danger&amp;#39; avalanche warning issu...</td>\n",
              "      <td>The Snow and Avalanche Study Establishment on ...</td>\n",
              "    </tr>\n",
              "    <tr>\n",
              "      <th>4996</th>\n",
              "      <td>Horse Shaktiman&amp;#39;s statue removed over back...</td>\n",
              "      <td>A day after a park built in the memory of poli...</td>\n",
              "    </tr>\n",
              "    <tr>\n",
              "      <th>4997</th>\n",
              "      <td>LinkedIn launches program to help refugees fin...</td>\n",
              "      <td>Employment-oriented social networking platform...</td>\n",
              "    </tr>\n",
              "    <tr>\n",
              "      <th>4998</th>\n",
              "      <td>Balan to portray writer Kamala Surayya in biopic</td>\n",
              "      <td>Actress Vidya Balan will be portraying the Ind...</td>\n",
              "    </tr>\n",
              "    <tr>\n",
              "      <th>4999</th>\n",
              "      <td>FPIs invest $2.2 bn in capital markets in April</td>\n",
              "      <td>Foreign Portfolio investors (FPIs) turned net ...</td>\n",
              "    </tr>\n",
              "  </tbody>\n",
              "</table>\n",
              "<p>5000 rows × 2 columns</p>\n",
              "</div>"
            ],
            "text/plain": [
              "                                               Headline                                              Short\n",
              "0     &#39;Alternative facts&#39; was my La La Land ...  White House adviser Kellyanne Conway has said ...\n",
              "1                 Why does a pen cap have a small hole?  Most pens have a cap with a small hole to prev...\n",
              "2     Warne conceded 150 runs and took just 1 wicket...  Former Australian spinner Shane Warne, who mad...\n",
              "3        House in US linked to over 600 mn IP addresses  A house in the US got linked to over 600 milli...\n",
              "4      OROP activist in judicial custody for fraud case  Retired Wing Commander CK Sharma has been plac...\n",
              "...                                                 ...                                                ...\n",
              "4995  &#39;Medium danger&#39; avalanche warning issu...  The Snow and Avalanche Study Establishment on ...\n",
              "4996  Horse Shaktiman&#39;s statue removed over back...  A day after a park built in the memory of poli...\n",
              "4997  LinkedIn launches program to help refugees fin...  Employment-oriented social networking platform...\n",
              "4998   Balan to portray writer Kamala Surayya in biopic  Actress Vidya Balan will be portraying the Ind...\n",
              "4999    FPIs invest $2.2 bn in capital markets in April  Foreign Portfolio investors (FPIs) turned net ...\n",
              "\n",
              "[5000 rows x 2 columns]"
            ]
          },
          "metadata": {
            "tags": []
          },
          "execution_count": 5
        }
      ]
    },
    {
      "cell_type": "markdown",
      "metadata": {
        "id": "1QVBZvEuRayO"
      },
      "source": [
        ""
      ]
    },
    {
      "cell_type": "code",
      "metadata": {
        "id": "_GM0CppLvK9T"
      },
      "source": [
        "hyp = test['Short']\n",
        "ref= test['Headline']"
      ],
      "execution_count": null,
      "outputs": []
    },
    {
      "cell_type": "code",
      "metadata": {
        "id": "TTqmi8vOvlTA"
      },
      "source": [
        "hyp_file = open(\"hyp.txt\", \"w\")\n",
        "for h in hyp:\n",
        "  line = predict(h)\n",
        "  hyp_file.write(line)\n",
        "  hyp_file.write(\"\\n\")\n",
        "hyp_file.close()"
      ],
      "execution_count": null,
      "outputs": []
    },
    {
      "cell_type": "code",
      "metadata": {
        "id": "dYdmBvCrw1MZ"
      },
      "source": [
        "ref_file = open(\"ref.txt\", \"w\")\n",
        "for line in ref:\n",
        "  ref_file.write(line)\n",
        "  ref_file.write(\"\\n\")\n",
        "ref_file.close()"
      ],
      "execution_count": null,
      "outputs": []
    },
    {
      "cell_type": "code",
      "metadata": {
        "id": "rQ7GvPS2yFPv"
      },
      "source": [
        "from rouge import FilesRouge\n",
        "hyp_path = 'hyp.txt'\n",
        "ref_path = 'ref.txt'\n",
        "files_rouge = FilesRouge()\n",
        "scores = files_rouge.get_scores(hyp_path, ref_path, avg=True)"
      ],
      "execution_count": null,
      "outputs": []
    },
    {
      "cell_type": "code",
      "metadata": {
        "colab": {
          "base_uri": "https://localhost:8080/"
        },
        "id": "964RaDETyNvq",
        "outputId": "84509dbc-6e89-441e-d5a5-89918a6516ca"
      },
      "source": [
        "scores"
      ],
      "execution_count": null,
      "outputs": [
        {
          "output_type": "execute_result",
          "data": {
            "text/plain": [
              "{'rouge-1': {'f': 0.23540009943350645,\n",
              "  'p': 0.2432979575979549,\n",
              "  'r': 0.23216993783993553},\n",
              " 'rouge-2': {'f': 0.08245998434377506,\n",
              "  'p': 0.08545714896214933,\n",
              "  'r': 0.08131537518037538},\n",
              " 'rouge-l': {'f': 0.23284158317116377,\n",
              "  'p': 0.2479391486291464,\n",
              "  'r': 0.2238225696525677}}"
            ]
          },
          "metadata": {
            "tags": []
          },
          "execution_count": 157
        }
      ]
    },
    {
      "cell_type": "markdown",
      "metadata": {
        "id": "3bry5btgvOqq"
      },
      "source": [
        "#Deploy"
      ]
    },
    {
      "cell_type": "code",
      "metadata": {
        "id": "pnS17rTgfPLd"
      },
      "source": [
        "from flask import Flask, request, render_template\n",
        "from flask_ngrok import run_with_ngrok"
      ],
      "execution_count": null,
      "outputs": []
    },
    {
      "cell_type": "code",
      "metadata": {
        "colab": {
          "base_uri": "https://localhost:8080/"
        },
        "id": "hOtubGTwiOTl",
        "outputId": "4cd96ada-6f5c-46c7-fdfd-36d11f954f0c"
      },
      "source": [
        "cd /content/text-summarization-with-transformer/flask-app"
      ],
      "execution_count": null,
      "outputs": [
        {
          "output_type": "stream",
          "text": [
            "/content/text-summarization-with-transformer/flask-app\n"
          ],
          "name": "stdout"
        }
      ]
    },
    {
      "cell_type": "code",
      "metadata": {
        "id": "qE30TsJNgQl5"
      },
      "source": [
        "app = Flask(__name__)\n",
        "run_with_ngrok(app)\n",
        "\n",
        "@app.route('/')\n",
        "def home():\n",
        "  return render_template('predict.html')\n",
        "\n",
        "@app.route('/summarize', methods=['POST'])\n",
        "def summarize():\n",
        "  text = request.form['text_input']\n",
        "  summary = predict(text)\n",
        "  return render_template('predict.html', o=\"Original text\", s=\"Summary\",original_text= text,summary = summary)"
      ],
      "execution_count": null,
      "outputs": []
    },
    {
      "cell_type": "code",
      "metadata": {
        "colab": {
          "base_uri": "https://localhost:8080/"
        },
        "id": "LAr0bxScgSa1",
        "outputId": "caaa46c6-e81c-4a46-f035-cc59fe215a2b"
      },
      "source": [
        "app.run()"
      ],
      "execution_count": null,
      "outputs": [
        {
          "output_type": "stream",
          "text": [
            " * Serving Flask app \"__main__\" (lazy loading)\n",
            " * Environment: production\n",
            "\u001b[31m   WARNING: This is a development server. Do not use it in a production deployment.\u001b[0m\n",
            "\u001b[2m   Use a production WSGI server instead.\u001b[0m\n",
            " * Debug mode: off\n"
          ],
          "name": "stdout"
        },
        {
          "output_type": "stream",
          "text": [
            "INFO:werkzeug: * Running on http://127.0.0.1:5000/ (Press CTRL+C to quit)\n"
          ],
          "name": "stderr"
        },
        {
          "output_type": "stream",
          "text": [
            " * Running on http://5d7995bfe62f.ngrok.io\n",
            " * Traffic stats available on http://127.0.0.1:4040\n"
          ],
          "name": "stdout"
        },
        {
          "output_type": "stream",
          "text": [
            "INFO:werkzeug:127.0.0.1 - - [03/Jul/2021 21:17:16] \"\u001b[37mGET / HTTP/1.1\u001b[0m\" 200 -\n",
            "INFO:werkzeug:127.0.0.1 - - [03/Jul/2021 21:17:17] \"\u001b[33mGET /favicon.ico HTTP/1.1\u001b[0m\" 404 -\n",
            "INFO:werkzeug:127.0.0.1 - - [03/Jul/2021 21:17:18] \"\u001b[37mGET / HTTP/1.1\u001b[0m\" 200 -\n",
            "INFO:werkzeug:127.0.0.1 - - [03/Jul/2021 21:17:24] \"\u001b[37mPOST /summarize HTTP/1.1\u001b[0m\" 200 -\n",
            "INFO:werkzeug:127.0.0.1 - - [03/Jul/2021 21:17:25] \"\u001b[31m\u001b[1mGET /summarize HTTP/1.1\u001b[0m\" 405 -\n",
            "INFO:werkzeug:127.0.0.1 - - [03/Jul/2021 21:17:52] \"\u001b[37mPOST /summarize HTTP/1.1\u001b[0m\" 200 -\n",
            "INFO:werkzeug:127.0.0.1 - - [03/Jul/2021 21:19:49] \"\u001b[37mGET / HTTP/1.1\u001b[0m\" 200 -\n"
          ],
          "name": "stderr"
        }
      ]
    },
    {
      "cell_type": "code",
      "metadata": {
        "id": "QN43_Nmuh7Cs"
      },
      "source": [
        ""
      ],
      "execution_count": null,
      "outputs": []
    }
  ]
}